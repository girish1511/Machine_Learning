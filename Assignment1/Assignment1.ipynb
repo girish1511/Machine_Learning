{
 "cells": [
  {
   "cell_type": "code",
   "execution_count": 2,
   "metadata": {
    "collapsed": true
   },
   "outputs": [],
   "source": [
    "import numpy as np\n",
    "import pandas as pd\n",
    "import math"
   ]
  },
  {
   "cell_type": "markdown",
   "metadata": {},
   "source": [
    "# Q2 (a)"
   ]
  },
  {
   "cell_type": "code",
   "execution_count": 3,
   "metadata": {
    "collapsed": true
   },
   "outputs": [],
   "source": [
    "def trainandtest_split(data,train_per):\n",
    "    shuffle=data.sample(frac=1).reset_index(drop=1)\n",
    "    i=int(train_per*len(data)/100)\n",
    "    return [shuffle[:i],shuffle[i:]]\n",
    "\n",
    "def k_fold(data,k):\n",
    "    shuffle=data.sample(frac=1).reset_index(drop=1)\n",
    "    i=int(len(shuffle)/k)\n",
    "    cvs=np.array([None]*k)\n",
    "    for j in range(k):\n",
    "        cvs[j]=shuffle[i*j:i*(j+1)]\n",
    "    return cvs\n",
    "\n",
    "#Classification---------------------------------------------------\n",
    "def no_of_class(data):\n",
    "    return np.sort(pd.unique(data[data.columns[-1]]))\n",
    "    \n",
    "def cls_data(data,noc):\n",
    "    c=noc\n",
    "    cls=np.array([0]*3)\n",
    "    for i in range(len(c)):\n",
    "        cls[i]=len(data[data[data.columns[-1]]==c[i]])\n",
    "    return cls\n",
    "\n",
    "def entropy(cls_data):\n",
    "    \"\"\"Calculates entropy for given class data\"\"\"\n",
    "    cls_data=np.array(cls_data)\n",
    "    cls_data=cls_data/sum(cls_data)\n",
    "    s=-sum(np.nan_to_num(np.multiply(cls_data,np.log2(cls_data))))\n",
    "    return s\n",
    "\n",
    "def inf_gain(S,sln,srn):\n",
    "    \"\"\"Calculates information gain for binary split\"\"\"\n",
    "    S,sln,srn=np.array(S),np.array(sln),np.array(srn)\n",
    "    n,l,r=sum(S),sum(sln),sum(srn)\n",
    "    g=entropy(S)-(l*entropy(sln)/n)-((r*entropy(srn)/n))\n",
    "    return g\n",
    "\n",
    "def best_split_classifier(node_data,noc):\n",
    "    A=''\n",
    "    split=0\n",
    "    ent=-math.inf\n",
    "#     f_info=dict()\n",
    "    for f in node_data.columns[:-1]:\n",
    "        v=np.sort(pd.unique(node_data[f]))\n",
    "        if len(v)==1:\n",
    "            continue\n",
    "        spl=(v[1:]+v[:-1])/2\n",
    "        S=cls_data(node_data,noc)\n",
    "        spl_info=dict()\n",
    "        for s in spl:\n",
    "            l=node_data[node_data[f]<s]\n",
    "            r=node_data[node_data[f]>=s]\n",
    "            sln=cls_data(l,noc)\n",
    "            srn=cls_data(r,noc)\n",
    "            if inf_gain(S,sln,srn)>ent:\n",
    "                [A,split]=[f,s]\n",
    "                ent=inf_gain(S,sln,srn)\n",
    "#         f_info[f]=spl_info\n",
    "    return [A,split]\n",
    "\n",
    "def decision_tree_classifier_learn(data,d,noc):\n",
    "    t=dict()\n",
    "    cls=cls_data(data,noc)\n",
    "    if (d and np.shape(data)[0]>1 and cls[cls>0].size>1):\n",
    "        d=d-1\n",
    "        [A,s]=best_split_classifier(data,noc)\n",
    "        [ln,rn]=[data[data[A]<s],data[data[A]>=s]]\n",
    "        t['l']=decision_tree_classifier_learn(ln,d,noc)\n",
    "        t['r']=decision_tree_classifier_learn(rn,d,noc)\n",
    "        return [A,s,cls,t]\n",
    "    else:\n",
    "        return ['no_split',None,cls,{}]\n",
    "\n",
    "def decision_tree_classifier_test(data,p):\n",
    "    A=p[0]\n",
    "    s=p[1]\n",
    "    cls=p[2]\n",
    "    if A=='no_split':\n",
    "        return np.argmax(cls)\n",
    "    else:\n",
    "        path=''\n",
    "        if float(data[A])<s:\n",
    "            path='l'\n",
    "        else:\n",
    "            path='r'\n",
    "        return decision_tree_classifier_test(data,p[3][path])\n",
    "\n",
    "def pred_classifier(test,p):\n",
    "    pred=np.array([0]*len(test))\n",
    "    for i in range(len(test)):\n",
    "        pred[i]=decision_tree_classifier_test(test.iloc[i],param)\n",
    "\n",
    "    count=0\n",
    "    for i in range(len(pred)):\n",
    "        if pred[i]==float(test[test.columns[-1]].iloc[i]):\n",
    "            count=count+1\n",
    "    acc=count*100/len(pred)\n",
    "    return [pred,acc]\n",
    "\n",
    "\n",
    "#Regression---------------------------------------------------\n",
    "\n",
    "def mse(data):\n",
    "    d=np.array(data[data.columns[-1]])\n",
    "    m=sum(np.square(d-np.mean(d)))/len(d)\n",
    "    return m\n",
    "\n",
    "def best_split_regressor(node_data):\n",
    "    A=''\n",
    "    split=0\n",
    "    ent=math.inf\n",
    "#     f_info=dict()\n",
    "    for f in node_data.columns[:-1]:\n",
    "        v=np.sort(pd.unique(node_data[f]))\n",
    "        spl=(v[1:]+v[:-1])/2\n",
    "        spl_info=dict()\n",
    "        for s in spl:\n",
    "            l=node_data[node_data[f]<s]\n",
    "            r=node_data[node_data[f]>=s]\n",
    "            if mse(l)+mse(r)<ent:\n",
    "                [A,split]=[f,s]\n",
    "                ent=mse(l)+mse(r)\n",
    "#         f_info[f]=spl_info\n",
    "    return [A,split]\n",
    "    \n",
    "def decision_tree_regressor_learn(data,d):\n",
    "    t=dict()\n",
    "    mu=np.mean(data[data.columns[-1]])\n",
    "    if (d and np.shape(data)[0]>1):\n",
    "        d=d-1\n",
    "        [A,s]=best_split_regressor(data)\n",
    "        [ln,rn]=[data[data[A]<s],data[data[A]>=s]]\n",
    "        t['l']=decision_tree_regressor_learn(ln,d)\n",
    "        t['r']=decision_tree_regressor_learn(rn,d)\n",
    "        return [A,s,mu,t]\n",
    "    else:\n",
    "        return ['no_split',None,mu,{}]\n",
    "    \n",
    "def decision_tree_regressor_test(data,p):\n",
    "    A=p[0]\n",
    "    s=p[1]\n",
    "    mu=p[2]\n",
    "    if A=='no_split':\n",
    "        return p[2]\n",
    "    else:\n",
    "        path=''\n",
    "        if float(data[A])<s:\n",
    "            path='l'\n",
    "        else:\n",
    "            path='r'\n",
    "        return decision_tree_regressor_test(data,p[3][path])\n",
    "\n",
    "def pred_regressor(data,p):\n",
    "    pred=np.array([0.0]*len(test))\n",
    "    for i in range(len(test)):\n",
    "        pred[i]=decision_tree_regressor_test(test.iloc[i],param)\n",
    "    \n",
    "    diff=pred-np.array(test[test.columns[-1]])\n",
    "    err=np.sqrt(sum(np.square(diff))/len(diff))\n",
    "    return [pred,err]"
   ]
  },
  {
   "cell_type": "markdown",
   "metadata": {},
   "source": [
    "# Q2 (b)"
   ]
  },
  {
   "cell_type": "code",
   "execution_count": 4,
   "metadata": {},
   "outputs": [
    {
     "name": "stderr",
     "output_type": "stream",
     "text": [
      "/Users/girish/anaconda3/lib/python3.6/site-packages/ipykernel_launcher.py:29: RuntimeWarning: divide by zero encountered in log2\n",
      "/Users/girish/anaconda3/lib/python3.6/site-packages/ipykernel_launcher.py:29: RuntimeWarning: invalid value encountered in multiply\n"
     ]
    },
    {
     "name": "stdout",
     "output_type": "stream",
     "text": [
      "Accuracy: 93.33333333333333\n"
     ]
    }
   ],
   "source": [
    "from sklearn import datasets\n",
    "\n",
    "iris=datasets.load_iris()\n",
    "irispd=pd.DataFrame(np.c_[iris.data,iris.target],columns=iris.feature_names+['class'])\n",
    "\n",
    "[train,test]=trainandtest_split(irispd,70)\n",
    "noc=no_of_class(train)\n",
    "param=decision_tree_classifier_learn(train,3,noc)\n",
    "[pred,acc]=pred_classifier(test,param)\n",
    "\n",
    "print('Accuracy:',acc)"
   ]
  },
  {
   "cell_type": "markdown",
   "metadata": {},
   "source": [
    "# Q2 (c)"
   ]
  },
  {
   "cell_type": "code",
   "execution_count": 87,
   "metadata": {},
   "outputs": [
    {
     "name": "stderr",
     "output_type": "stream",
     "text": [
      "/Users/girish/anaconda3/lib/python3.6/site-packages/ipykernel_launcher.py:29: RuntimeWarning: divide by zero encountered in log2\n",
      "/Users/girish/anaconda3/lib/python3.6/site-packages/ipykernel_launcher.py:29: RuntimeWarning: invalid value encountered in multiply\n"
     ]
    },
    {
     "name": "stdout",
     "output_type": "stream",
     "text": [
      "Optimal Depth:  2\n",
      "Mean Accuracy:  93.33333333333334\n",
      "Depth-Accuracy info {1: [2, 93.33333333333333], 2: [2, 86.66666666666667], 3: [2, 93.33333333333333], 4: [2, 96.66666666666667], 5: [3, 96.66666666666667]}\n"
     ]
    }
   ],
   "source": [
    "from sklearn import datasets\n",
    "\n",
    "iris=datasets.load_iris()\n",
    "irispd=pd.DataFrame(np.c_[iris.data,iris.target],columns=iris.feature_names+['class'])\n",
    "\n",
    "cvs=k_fold(irispd,5)\n",
    "k=len(cvs)\n",
    "va={}\n",
    "x=np.array(range(k))\n",
    "for i in range(k):\n",
    "    [train,val,test]=[pd.DataFrame(np.concatenate(cvs[x[0:k-2]]),columns=irispd.columns).reset_index(drop=1),pd.DataFrame(cvs[x[k-2]]).reset_index(drop=1),pd.DataFrame(cvs[x[k-1]]).reset_index(drop=1)]\n",
    "    noc=no_of_class(irispd)\n",
    "    a_max=-math.inf\n",
    "    d_max=0\n",
    "    d_info={}\n",
    "    for d in range(1,10):\n",
    "        param=decision_tree_classifier_learn(train,d,noc)\n",
    "        [pred,acc]=pred_classifier(val,param)\n",
    "        if acc>a_max:\n",
    "            a_max=acc\n",
    "            d_max=d\n",
    "        d_info[d]=acc\n",
    "    [pred,a]=pred_classifier(test,param)\n",
    "    va[i+1]=[d_max,a]\n",
    "    x=np.roll(x,1)\n",
    "op_d=math.inf\n",
    "m_a=0\n",
    "for k in va.keys():\n",
    "    m_a=m_a+va[k][1]\n",
    "    if va[k][0]<op_d:\n",
    "        op_d=va[k][0]\n",
    "m_a=m_a/len(va)\n",
    "print('Optimal Depth: ',op_d)\n",
    "print('Mean Accuracy: ',m_a)\n",
    "print('Depth-Accuracy info', va)"
   ]
  },
  {
   "cell_type": "markdown",
   "metadata": {},
   "source": [
    "# Q3"
   ]
  },
  {
   "cell_type": "code",
   "execution_count": 66,
   "metadata": {},
   "outputs": [
    {
     "name": "stdout",
     "output_type": "stream",
     "text": [
      "Root Mean Square Error(My tree):  8.084544723788692\n"
     ]
    }
   ],
   "source": [
    "fp = 'Real estate valuation data set.xlsx'\n",
    "reg_data=pd.read_excel(fp)\n",
    "reg_data=reg_data[reg_data.columns[2:]]\n",
    "\n",
    "[train,test]=trainandtest_split(reg_data,70)\n",
    "param=decision_tree_regressor_learn(reg_data,3)\n",
    "[pred,err]=pred_regressor(test,param)\n",
    "\n",
    "print('Root Mean Square Error(My tree): ',err)"
   ]
  },
  {
   "cell_type": "markdown",
   "metadata": {},
   "source": [
    "# Q4"
   ]
  },
  {
   "cell_type": "code",
   "execution_count": 4,
   "metadata": {},
   "outputs": [
    {
     "name": "stdout",
     "output_type": "stream",
     "text": [
      "Root Mean Square Error(scikit learn):  11.250433752321932\n"
     ]
    }
   ],
   "source": [
    "from sklearn.tree import DecisionTreeRegressor\n",
    "from sklearn.model_selection import train_test_split\n",
    "\n",
    "fp = 'Real estate valuation data set.xlsx'\n",
    "reg_data=pd.read_excel(fp)\n",
    "reg_data=reg_data[reg_data.columns[1:]]\n",
    "\n",
    "Y=reg_data[reg_data.columns[-1]]\n",
    "train_X,test_X,train_Y,test_Y = train_test_split(reg_data[reg_data.columns[:-1]],Y,random_state= 564)\n",
    "\n",
    "model=DecisionTreeRegressor()\n",
    "model.fit(train_X,train_Y)\n",
    "\n",
    "pred=model.predict(test_X)\n",
    "diff=np.array(pred)-np.array(test_Y)\n",
    "err=np.sqrt(sum(np.square(diff))/len(diff))\n",
    "\n",
    "print('Root Mean Square Error(scikit learn): ',err)"
   ]
  },
  {
   "cell_type": "markdown",
   "metadata": {},
   "source": [
    "Scikit learn has far better performance than the decision tree created"
   ]
  },
  {
   "cell_type": "markdown",
   "metadata": {},
   "source": [
    "# Q5"
   ]
  },
  {
   "cell_type": "code",
   "execution_count": null,
   "metadata": {
    "collapsed": true
   },
   "outputs": [],
   "source": [
    "from sklearn.tree import DecisionTreeRegressor\n",
    "from sklearn.model_selection import train_test_split\n",
    "from dtreeviz.trees import *\n",
    "\n",
    "fp = 'Real estate valuation data set.xlsx'\n",
    "reg_data=pd.read_excel(fp)\n",
    "reg_data=reg_data[reg_data.columns[1:]]\n",
    "\n",
    "Y=reg_data[reg_data.columns[-1]]\n",
    "train_X,test_X,train_Y,test_Y = train_test_split(reg_data,Y,random_state= 564)\n",
    "\n",
    "model=DecisionTreeRegressor()\n",
    "model.fit(train_X,train_Y)\n",
    "\n",
    "pred=model.predict(test_X)\n",
    "diff=np.array(pred)-np.array(test_Y)\n",
    "err=np.sqrt(sum(np.square(diff))/len(diff))\n",
    "\n",
    "print('Root Mean Square Error(scikit learn): ',err)\n",
    "\n",
    "diag=dtreeviz(model,train_X,train_Y, target_name = 'Price', feature_names = reg_data.columns[:])\n",
    "diag.view()"
   ]
  },
  {
   "cell_type": "code",
   "execution_count": 20,
   "metadata": {},
   "outputs": [
    {
     "name": "stdout",
     "output_type": "stream",
     "text": [
      "Decision Tree:  ['X3 distance to the nearest MRT station', 981.5777, 37.98019323671498, {'l': ['X6 longitude', 121.55017000000001, 44.79525547445256, {'l': ['X6 longitude', 121.54961, 44.84249084249085, {'l': ['no_split', None, 44.87242647058824, {}], 'r': ['no_split', None, 36.7, {}]}], 'r': ['no_split', None, 31.9, {}]}], 'r': ['X2 house age', 34.05, 24.642142857142854, {'l': ['X3 distance to the nearest MRT station', 6351.218000000001, 24.52302158273381, {'l': ['no_split', None, 24.71021897810219, {}], 'r': ['no_split', None, 11.7, {}]}], 'r': ['no_split', None, 41.2, {}]}]}]\n"
     ]
    }
   ],
   "source": [
    "import pydot\n",
    "\n",
    "fp = 'Real estate valuation data set.xlsx'\n",
    "reg_data=pd.read_excel(fp)\n",
    "reg_data=reg_data[reg_data.columns[2:]]\n",
    "\n",
    "[train,test]=train_test_split(reg_data,70)\n",
    "param=decision_tree_regressor_learn(reg_data,3)\n",
    "# [pred,err]=pred_regressor(test,param)\n",
    "\n",
    "print('Decision Tree: ',param)"
   ]
  },
  {
   "cell_type": "markdown",
   "metadata": {},
   "source": [
    "# Q6"
   ]
  },
  {
   "cell_type": "code",
   "execution_count": 67,
   "metadata": {},
   "outputs": [
    {
     "name": "stderr",
     "output_type": "stream",
     "text": [
      "/Users/girish/anaconda3/lib/python3.6/site-packages/ipykernel_launcher.py:29: RuntimeWarning: divide by zero encountered in log2\n",
      "/Users/girish/anaconda3/lib/python3.6/site-packages/ipykernel_launcher.py:29: RuntimeWarning: invalid value encountered in multiply\n"
     ]
    },
    {
     "name": "stdout",
     "output_type": "stream",
     "text": [
      "Best,Worst [[3, 93.33333333333333], [1, 68.88888888888889]]\n",
      "Depth-Accuracy info {1: 68.88888888888889, 2: 91.11111111111111, 3: 93.33333333333333, 4: 93.33333333333333, 5: 93.33333333333333, 6: 93.33333333333333}\n"
     ]
    }
   ],
   "source": [
    "from sklearn import datasets\n",
    "\n",
    "iris=datasets.load_iris()\n",
    "irispd=pd.DataFrame(np.c_[iris.data,iris.target],columns=iris.feature_names+['class'])\n",
    "\n",
    "[train,test]=trainandtest_split(irispd,70)\n",
    "noc=no_of_class(irispd)\n",
    "a_max=-math.inf\n",
    "a_min=math.inf\n",
    "d_min=0\n",
    "d_max=0\n",
    "d_info={}\n",
    "for d in range(1,int(math.log2(len(irispd)))):\n",
    "    param=decision_tree_classifier_learn(train,d,noc)\n",
    "    [pred,acc]=pred_classifier(train,param)\n",
    "    if acc>a_max:\n",
    "        a_max=acc\n",
    "        d_max=d\n",
    "    if acc<a_min:\n",
    "        a_min=acc\n",
    "        d_min=d\n",
    "    d_info[d]=acc\n",
    "print('Best,Greedy,Worst',[[d_max,a_max],[d_min,a_min]])# Consideration: Greedy order is the best order\n",
    "print('Depth-Accuracy info', d_info)"
   ]
  },
  {
   "cell_type": "markdown",
   "metadata": {},
   "source": [
    "# Q7"
   ]
  },
  {
   "cell_type": "code",
   "execution_count": 78,
   "metadata": {},
   "outputs": [
    {
     "name": "stderr",
     "output_type": "stream",
     "text": [
      "/Users/girish/anaconda3/lib/python3.6/site-packages/ipykernel_launcher.py:29: RuntimeWarning: divide by zero encountered in log2\n",
      "/Users/girish/anaconda3/lib/python3.6/site-packages/ipykernel_launcher.py:29: RuntimeWarning: invalid value encountered in multiply\n"
     ]
    },
    {
     "data": {
      "image/png": "[encoded data removed]",
      "text/plain": [
       "<matplotlib.figure.Figure at 0x1a1f9e4320>"
      ]
     },
     "metadata": {},
     "output_type": "display_data"
    }
   ],
   "source": [
    "import time\n",
    "import matplotlib.pyplot as plt\n",
    "\n",
    "train_time=[]\n",
    "pred_time=[]\n",
    "\n",
    "l_start=0\n",
    "l_end=0\n",
    "p_start=0\n",
    "p_end=0\n",
    "l_t=0\n",
    "p_t=0\n",
    "\n",
    "n=150\n",
    "for m in range(2,20):\n",
    "    col=['X'+str(i+1) for i in range(m)]\n",
    "    x=np.random.randint(2,size=(n,m+1))\n",
    "    dataset=pd.DataFrame(x, columns=col+['target'])\n",
    "\n",
    "    [train,test]=trainandtest_split(dataset,70)\n",
    "    noc=no_of_class(train)\n",
    "    l_start=time.time()\n",
    "    param=decision_tree_classifier_learn(train,2,noc)\n",
    "    l_end=time.time()\n",
    "    train_time.append(l_end-l_start)\n",
    "    p_start=time.time()\n",
    "    [pred,acc]=pred_classifier(test,param)\n",
    "    p_end=time.time()\n",
    "    pred_time.append(p_end-p_start)\n",
    "\n",
    "\n",
    "X=range(2,20)\n",
    "plt.subplot(2,2,1)\n",
    "plt.plot(X,train_time)\n",
    "plt.title('Time complexity\\nwith N as constant')\n",
    "plt.legend('Training time')\n",
    "\n",
    "plt.subplot(2,2,3)\n",
    "plt.plot(X,pred_time)\n",
    "plt.legend('Predicting time')\n",
    "\n",
    "train_time=[]\n",
    "pred_time=[]\n",
    "    \n",
    "m=5\n",
    "for n in range(100,300):\n",
    "    col=['X'+str(i+1) for i in range(m)]\n",
    "    x=np.random.randint(2,size=(n,m+1))\n",
    "    dataset=pd.DataFrame(x, columns=col+['target'])\n",
    "\n",
    "    [train,test]=trainandtest_split(dataset,70)\n",
    "    noc=no_of_class(train)\n",
    "    l_start=time.time()\n",
    "    param=decision_tree_classifier_learn(train,2,noc)\n",
    "    l_end=time.time()\n",
    "    train_time.append(l_end-l_start)\n",
    "    p_start=time.time()\n",
    "    [pred,acc]=pred_classifier(test,param)\n",
    "    p_end=time.time()\n",
    "    pred_time.append(p_end-p_start)\n",
    "\n",
    "X=range(100,500)\n",
    "plt.subplot(2,2,2)\n",
    "plt.plot(X,train_time)\n",
    "plt.title('Time complexity\\nwith M as constant')\n",
    "plt.legend('Training time')\n",
    "\n",
    "plt.subplot(2,2,4)\n",
    "plt.plot(X,pred_time)\n",
    "plt.legend('Predicting time')  \n",
    "\n",
    "plt.show()"
   ]
  },
  {
   "cell_type": "code",
   "execution_count": 71,
   "metadata": {},
   "outputs": [
    {
     "data": {
      "text/plain": [
       "(95,)"
      ]
     },
     "execution_count": 71,
     "metadata": {},
     "output_type": "execute_result"
    }
   ],
   "source": [
    "import random\n",
    "n=irispd.iloc[random.choices(range(150),k=150)]\n",
    "np.shape(pd.unique(n.index))"
   ]
  }
 ],
 "metadata": {
  "kernelspec": {
   "display_name": "Python 3",
   "language": "python",
   "name": "python3"
  },
  "language_info": {
   "codemirror_mode": {
    "name": "ipython",
    "version": 3
   },
   "file_extension": ".py",
   "mimetype": "text/x-python",
   "name": "python",
   "nbconvert_exporter": "python",
   "pygments_lexer": "ipython3",
   "version": "3.6.3"
  }
 },
 "nbformat": 4,
 "nbformat_minor": 2
}

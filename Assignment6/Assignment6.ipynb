{
 "cells": [
  {
   "cell_type": "code",
   "execution_count": 1,
   "metadata": {
    "collapsed": true
   },
   "outputs": [],
   "source": [
    "import numpy as np\n",
    "import pandas as pd\n",
    "from sklearn import datasets\n",
    "from sklearn.model_selection import train_test_split\n",
    "import matplotlib.pyplot as plt"
   ]
  },
  {
   "cell_type": "code",
   "execution_count": 2,
   "metadata": {
    "collapsed": true
   },
   "outputs": [],
   "source": [
    "iris=datasets.load_iris()\n",
    "irispd=pd.DataFrame(np.c_[iris.data,iris.target],columns=iris.feature_names+['class'])\n",
    "X=np.array(irispd[['sepal length (cm)', 'petal width (cm)']])\n",
    "Y=np.array(irispd[irispd.columns[-1]])"
   ]
  },
  {
   "cell_type": "markdown",
   "metadata": {},
   "source": [
    "# Q1"
   ]
  },
  {
   "cell_type": "code",
   "execution_count": 3,
   "metadata": {
    "collapsed": true
   },
   "outputs": [],
   "source": [
    "train_X, test_X, train_Y, test_Y=train_test_split(X,Y,random_state=12,test_size=0.3)"
   ]
  },
  {
   "cell_type": "code",
   "execution_count": 4,
   "metadata": {
    "collapsed": true
   },
   "outputs": [],
   "source": [
    "class gaussian_naive_bias(object):\n",
    "    def __init__(self, X, y):\n",
    "        self.X = X\n",
    "        self.y = y\n",
    "        self.t_x = None\n",
    "        self.t_y = None\n",
    "        self.prob_num = None\n",
    "        self.y_pred = None\n",
    "        self.uncer_lea = None\n",
    "        self.uncer_rand = None\n",
    "    \n",
    "    def noc(self):\n",
    "        n_c = np.unique(self.y)\n",
    "        return n_c\n",
    "\n",
    "    def gaussian_prob(self, data_mean, data_std):\n",
    "        t_x = self.t_x\n",
    "        var = np.square(data_std)\n",
    "\n",
    "        prob = np.zeros((len(t_x[:,0])))\n",
    "\n",
    "        for p in range(len(prob)):\n",
    "            prob[p] = np.product(np.exp(-(np.square(t_x[p,:]-data_mean))/(2*var))/np.sqrt(2*np.pi*var))\n",
    "\n",
    "        return prob\n",
    "    \n",
    "    def naive_bayes(self, t_x, t_y):\n",
    "        self.t_x = t_x\n",
    "        self.t_y = t_y\n",
    "        test_len = np.shape(t_x)[0]\n",
    "        n_c = self.noc()\n",
    "        n_fea = np.shape(self.X)[1]\n",
    "        prob_num = np.zeros((test_len,3))\n",
    "        prob_y = np.zeros((len(n_c)))\n",
    "        y_pred = np.zeros((test_len))\n",
    "\n",
    "        for i in range(len(n_c)):\n",
    "            m=np.mean(self.X[self.y==n_c[i]], axis=0)\n",
    "            sd=np.std(self.X[self.y==n_c[i]], axis=0)\n",
    "\n",
    "            prob_y[i] = np.sum(self.y==n_c[i])/len(self.y)\n",
    "            prob_num[:,i] = self.gaussian_prob(m, sd) #* prob_y[i]\n",
    "        self.prob_num = prob_num\n",
    "        for l in range(test_len):\n",
    "            y_pred[l] = n_c[np.argmax(prob_num[l,:])]\n",
    "        \n",
    "        self.uncer_rand = np.random.randint(0,test_len)\n",
    "        self.uncer_lea = np.argmin(np.max(prob_num,axis=1))\n",
    "        self.y_pred = y_pred\n",
    "        return y_pred\n",
    "    \n",
    "    def accuracy(self):\n",
    "        \n",
    "        return 100*np.sum(self.y_pred == self.t_y)/len(self.t_y)"
   ]
  },
  {
   "cell_type": "code",
   "execution_count": 5,
   "metadata": {
    "collapsed": true
   },
   "outputs": [],
   "source": [
    "ob = gaussian_naive_bias(train_X, train_Y)"
   ]
  },
  {
   "cell_type": "code",
   "execution_count": 6,
   "metadata": {
    "collapsed": true
   },
   "outputs": [],
   "source": [
    "y_pred = ob.naive_bayes(test_X, test_Y)"
   ]
  },
  {
   "cell_type": "code",
   "execution_count": 40,
   "metadata": {},
   "outputs": [
    {
     "name": "stdout",
     "output_type": "stream",
     "text": [
      "Test Accuracy:  97.77777777777777\n"
     ]
    }
   ],
   "source": [
    "print('Test Accuracy: ',ob.accuracy())"
   ]
  },
  {
   "cell_type": "markdown",
   "metadata": {},
   "source": [
    "# Q2"
   ]
  },
  {
   "cell_type": "code",
   "execution_count": 49,
   "metadata": {
    "collapsed": true
   },
   "outputs": [],
   "source": [
    "temp_X, test_X, temp_Y, test_Y = train_test_split(X,Y,random_state=5,test_size=0.3)\n",
    "train_X, pool_X, train_Y, pool_Y = train_test_split(temp_X, temp_Y,random_state=1, test_size= 6/7)\n",
    "n_q=20"
   ]
  },
  {
   "cell_type": "markdown",
   "metadata": {},
   "source": [
    "# (a)"
   ]
  },
  {
   "cell_type": "code",
   "execution_count": 50,
   "metadata": {
    "collapsed": true
   },
   "outputs": [],
   "source": [
    "test_acc_lea = []\n",
    "for i in range(n_q):\n",
    "    ac_lear = gaussian_naive_bias(train_X, train_Y)\n",
    "    y_pred = ac_lear.naive_bayes(pool_X, pool_Y)\n",
    "    \n",
    "    uncer_lea=ac_lear.uncer_lea.copy()\n",
    "    train_X=np.vstack([train_X,pool_X[uncer_lea,:]])\n",
    "    train_Y=np.append(train_Y,pool_Y[uncer_lea])\n",
    "    \n",
    "    pool_X = np.delete(pool_X, (uncer_lea), axis=0)\n",
    "    pool_Y = np.delete(pool_Y, (uncer_lea))\n",
    "    \n",
    "    test = gaussian_naive_bias(train_X, train_Y)\n",
    "    test_pred = test.naive_bayes(test_X, test_Y)\n",
    "    test_acc_lea.append(test.accuracy())\n",
    "    "
   ]
  },
  {
   "cell_type": "code",
   "execution_count": 51,
   "metadata": {},
   "outputs": [
    {
     "data": {
      "image/png": "[encoded data removed]",
      "text/plain": [
       "<matplotlib.figure.Figure at 0x1a20afb860>"
      ]
     },
     "metadata": {},
     "output_type": "display_data"
    }
   ],
   "source": [
    "plt.plot(test_acc_lea)\n",
    "plt.xlabel('Iterations')\n",
    "plt.ylabel('Test accuracy')\n",
    "plt.show()"
   ]
  },
  {
   "cell_type": "markdown",
   "metadata": {},
   "source": [
    "# (b)"
   ]
  },
  {
   "cell_type": "code",
   "execution_count": 11,
   "metadata": {
    "collapsed": true
   },
   "outputs": [],
   "source": [
    "temp_X, test_X, temp_Y, test_Y = train_test_split(X,Y,random_state=1,test_size=0.3)\n",
    "train_X, pool_X, train_Y, pool_Y = train_test_split(temp_X, temp_Y,random_state=1, test_size= 6/7)\n",
    "n_q=30\n",
    "\n",
    "x0, x1 = np.meshgrid(np.arange(np.amin(X[:,0])-0.05, np.amax(X[:,0])+0.05, 0.01), np.arange(np.min(X[:,1])-0.05, np.max(X[:,1])+0.05, 0.01))\n",
    "\n",
    "ex=gaussian_naive_bias(train_X, train_Y)\n",
    "ex_pred=ex.naive_bayes(np.c_[x0.ravel(), x1.ravel()], Y)\n",
    "ex_pred = ex_pred.reshape(x0.shape)\n",
    "\n",
    "plt.gcf().clear()\n",
    "plt.scatter(X[:,0], X[:,1], c=Y, cmap=plt.cm.Paired_r)\n",
    "plt.pcolormesh(x0, x1, ex_pred, alpha=0.1, cmap=plt.cm.Paired_r)\n",
    "plt.title('Query: 0')\n",
    "plt.xlabel('Sepal length(cm)')\n",
    "plt.ylabel('Petal width(cm)')\n",
    "# plt.show()\n",
    "filename='000.png'\n",
    "plt.savefig(filename, dpi=96)\n",
    "plt.gca()\n",
    "# plt.show()\n",
    "# test_acc_lea = []\n",
    "for i in range(n_q):\n",
    "    plt.gcf().clear()\n",
    "    ac_lear = gaussian_naive_bias(train_X, train_Y)\n",
    "    y_pred = ac_lear.naive_bayes(pool_X, pool_Y)\n",
    "    \n",
    "    uncer_lea=ac_lear.uncer_lea.copy()\n",
    "    train_X=np.vstack([train_X,pool_X[uncer_lea,:]])\n",
    "    train_Y=np.append(train_Y,pool_Y[uncer_lea])\n",
    "    \n",
    "    pool_X = np.delete(pool_X, (uncer_lea), axis=0)\n",
    "    pool_Y = np.delete(pool_Y, (uncer_lea))\n",
    "    \n",
    "    ex=gaussian_naive_bias(train_X, train_Y)\n",
    "    ex_pred=ex.naive_bayes(np.c_[x0.ravel(), x1.ravel()], Y)\n",
    "    ex_pred = ex_pred.reshape(x0.shape)\n",
    "    plt.scatter(X[:,0], X[:,1], c=Y, cmap=plt.cm.Paired_r)\n",
    "    plt.pcolormesh(x0, x1, ex_pred, alpha=0.1, cmap=plt.cm.Paired_r)\n",
    "    plt.title('Query: '+str(i+1))\n",
    "    plt.xlabel('Sepal length(cm)')\n",
    "    plt.ylabel('Petal width(cm)')\n",
    "#     plt.show()\n",
    "    \n",
    "    filename=str(format(i+1, '03d'))+'.png'\n",
    "    plt.savefig(filename, dpi=96)\n",
    "    plt.gca()"
   ]
  },
  {
   "cell_type": "code",
   "execution_count": 12,
   "metadata": {
    "scrolled": false
   },
   "outputs": [
    {
     "data": {
      "text/html": [
       "<img src=\"Q2b.gif\"/>"
      ],
      "text/plain": [
       "<IPython.core.display.Image object>"
      ]
     },
     "execution_count": 12,
     "metadata": {},
     "output_type": "execute_result"
    }
   ],
   "source": [
    "! convert -delay 15 *.png Q2b.gif\n",
    "from IPython.display import Image\n",
    "Image(url='Q2b.gif') "
   ]
  },
  {
   "cell_type": "code",
   "execution_count": 42,
   "metadata": {
    "collapsed": true
   },
   "outputs": [],
   "source": [
    "temp_X, test_X, temp_Y, test_Y = train_test_split(X,Y,random_state=1,test_size=0.3)\n",
    "train_X, pool_X, train_Y, pool_Y = train_test_split(temp_X, temp_Y,random_state=1, test_size= 6/7)\n",
    "n_q=30\n",
    "\n",
    "x0, x1 = np.meshgrid(np.arange(np.amin(X[:,0])-0.05, np.amax(X[:,0])+0.05, 0.01), np.arange(np.min(X[:,1])-0.05, np.max(X[:,1])+0.05, 0.01))\n",
    "\n",
    "ex=gaussian_naive_bias(train_X, train_Y)\n",
    "ex_pred=ex.naive_bayes(np.c_[x0.ravel(), x1.ravel()], Y)\n",
    "ex_pred = ex_pred.reshape(x0.shape)\n",
    "\n",
    "plt.gcf().clear()\n",
    "plt.scatter(train_X[:,0], train_X[:,1], c=train_Y, cmap=plt.cm.Paired_r)\n",
    "plt.pcolormesh(x0, x1, ex_pred, alpha=0.1, cmap=plt.cm.Paired_r)\n",
    "plt.title('Query: 0')\n",
    "plt.xlabel('Sepal length(cm)')\n",
    "plt.ylabel('Petal width(cm)')\n",
    "# plt.show()\n",
    "filename='000.png'\n",
    "plt.savefig(filename, dpi=96)\n",
    "plt.gca()\n",
    "# plt.show()\n",
    "# test_acc_lea = []\n",
    "for i in range(n_q):\n",
    "    plt.gcf().clear()\n",
    "    ac_lear = gaussian_naive_bias(train_X, train_Y)\n",
    "    y_pred = ac_lear.naive_bayes(pool_X, pool_Y)\n",
    "    \n",
    "    uncer_lea=ac_lear.uncer_lea.copy()\n",
    "    train_X=np.vstack([train_X,pool_X[uncer_lea,:]])\n",
    "    train_Y=np.append(train_Y,pool_Y[uncer_lea])\n",
    "    \n",
    "    pool_X = np.delete(pool_X, (uncer_lea), axis=0)\n",
    "    pool_Y = np.delete(pool_Y, (uncer_lea))\n",
    "    \n",
    "    ex=gaussian_naive_bias(train_X, train_Y)\n",
    "    ex_pred=ex.naive_bayes(np.c_[x0.ravel(), x1.ravel()], Y)\n",
    "    ex_pred = ex_pred.reshape(x0.shape)\n",
    "    plt.scatter(train_X[:,0], train_X[:,1], c=train_Y, cmap=plt.cm.Paired_r)\n",
    "    plt.pcolormesh(x0, x1, ex_pred, alpha=0.1, cmap=plt.cm.Paired_r)\n",
    "    plt.title('Query: '+str(i+1))\n",
    "    plt.xlabel('Sepal length(cm)')\n",
    "    plt.ylabel('Petal width(cm)')\n",
    "#     plt.show()\n",
    "    \n",
    "    filename=str(format(i+1, '03d'))+'.jpg'\n",
    "    plt.savefig(filename, dpi=96)\n",
    "    plt.gca()"
   ]
  },
  {
   "cell_type": "code",
   "execution_count": 45,
   "metadata": {},
   "outputs": [
    {
     "data": {
      "text/html": [
       "<img src=\"Q2bb.gif\"/>"
      ],
      "text/plain": [
       "<IPython.core.display.Image object>"
      ]
     },
     "execution_count": 45,
     "metadata": {},
     "output_type": "execute_result"
    }
   ],
   "source": [
    "! convert -delay 25 *.jpg Q2bb.gif\n",
    "from IPython.display import Image\n",
    "Image(url='Q2bb.gif') "
   ]
  },
  {
   "cell_type": "markdown",
   "metadata": {},
   "source": [
    "# (c)"
   ]
  },
  {
   "cell_type": "code",
   "execution_count": 52,
   "metadata": {
    "collapsed": true
   },
   "outputs": [],
   "source": [
    "temp_X, test_X, temp_Y, test_Y = train_test_split(X,Y,random_state=5,test_size=0.3)\n",
    "train_X, pool_X, train_Y, pool_Y = train_test_split(temp_X, temp_Y,random_state=1, test_size= 6/7)\n",
    "\n",
    "test_acc_rand = np.zeros((5,n_q))\n",
    "for r in range(5):\n",
    "    temp_X, test_X, temp_Y, test_Y = train_test_split(X,Y,random_state=12,test_size=0.3)\n",
    "    train_X, pool_X, train_Y, pool_Y = train_test_split(temp_X, temp_Y,random_state=1, test_size= 6/7)\n",
    "    np.random.seed(r)\n",
    "    for i in range(n_q):\n",
    "        ac_lear = gaussian_naive_bias(train_X, train_Y)\n",
    "        y_pred = ac_lear.naive_bayes(pool_X, pool_Y)\n",
    "\n",
    "        uncer_rand=ac_lear.uncer_rand\n",
    "        train_X=np.vstack([train_X,pool_X[uncer_rand,:]])\n",
    "        train_Y=np.append(train_Y,pool_Y[uncer_rand])\n",
    "\n",
    "        pool_X = np.delete(pool_X, (uncer_rand), axis=0)\n",
    "        pool_Y = np.delete(pool_Y, (uncer_rand))\n",
    "\n",
    "        test = gaussian_naive_bias(train_X, train_Y)\n",
    "        test_pred = test.naive_bayes(test_X, test_Y)\n",
    "        test_acc_rand[r,i]=test.accuracy()"
   ]
  },
  {
   "cell_type": "code",
   "execution_count": 53,
   "metadata": {
    "collapsed": true
   },
   "outputs": [],
   "source": [
    "# # for r in range(5):\n",
    "# #     plt.plot(np.mean(test_acc_rand[r,:]))\n",
    "# plt.errorbar(range(n_q),[np.mean(test_acc_rand)]*n_q, [np.std(test_acc_rand)]*n_q)\n",
    "# # plt.plot([np.std(test_acc_rand)]*n_q)\n",
    "# plt.plot(test_acc_lea)\n",
    "# plt.legend(['Mean of random estimation', 'Standard deviation of random estimation', 'Least confidence'])\n",
    "# plt.show()"
   ]
  },
  {
   "cell_type": "code",
   "execution_count": 54,
   "metadata": {},
   "outputs": [
    {
     "data": {
      "image/png": "[encoded data removed]",
      "text/plain": [
       "<matplotlib.figure.Figure at 0x1a21d600b8>"
      ]
     },
     "metadata": {},
     "output_type": "display_data"
    }
   ],
   "source": [
    "n_q=20\n",
    "# plt.plot([np.mean(test_acc_rand)]*n_q)\n",
    "# plt.plot([np.mean(test_acc_rand)+np.std(test_acc_rand)]*n_q, 'k',linestyle='--')\n",
    "# plt.plot([np.mean(test_acc_rand)-np.std(test_acc_rand)]*n_q, 'k',linestyle='--')\n",
    "plt.gcf().clear()\n",
    "plt.errorbar(range(n_q), np.mean(test_acc_rand,axis=0), np.std(test_acc_rand, axis=0))\n",
    "plt.plot(test_acc_lea)\n",
    "plt.xlabel('Queries')\n",
    "plt.ylabel('Test accuracy')\n",
    "plt.title('Naive-Bayes')\n",
    "plt.legend(['Least-confidence', 'Random sampling'])\n",
    "plt.show()"
   ]
  },
  {
   "cell_type": "code",
   "execution_count": null,
   "metadata": {
    "collapsed": true
   },
   "outputs": [],
   "source": []
  }
 ],
 "metadata": {
  "kernelspec": {
   "display_name": "Python 3",
   "language": "python",
   "name": "python3"
  },
  "language_info": {
   "codemirror_mode": {
    "name": "ipython",
    "version": 3
   },
   "file_extension": ".py",
   "mimetype": "text/x-python",
   "name": "python",
   "nbconvert_exporter": "python",
   "pygments_lexer": "ipython3",
   "version": "3.6.3"
  }
 },
 "nbformat": 4,
 "nbformat_minor": 2
}

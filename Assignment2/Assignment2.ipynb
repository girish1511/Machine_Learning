{
 "cells": [
  {
   "cell_type": "code",
   "execution_count": 2,
   "metadata": {},
   "outputs": [
    {
     "name": "stderr",
     "output_type": "stream",
     "text": [
      "/Users/girish/anaconda3/lib/python3.6/site-packages/sklearn/ensemble/weight_boosting.py:29: DeprecationWarning: numpy.core.umath_tests is an internal NumPy module and should not be imported. It will be removed in a future NumPy release.\n",
      "  from numpy.core.umath_tests import inner1d\n"
     ]
    }
   ],
   "source": [
    "import numpy as np\n",
    "import pandas as pd\n",
    "import math\n",
    "import time\n",
    "import matplotlib.pyplot as plt\n",
    "import seaborn as sns\n",
    "import random\n",
    "from sklearn.ensemble import RandomForestRegressor, RandomForestClassifier\n",
    "from sklearn.tree import DecisionTreeRegressor, DecisionTreeClassifier\n",
    "from sklearn import metrics\n",
    "from fastai.imports import *\n",
    "from fastai.structured import *\n",
    "import multiprocessing as mp\n",
    "from celluloid import Camera"
   ]
  },
  {
   "cell_type": "code",
   "execution_count": 25,
   "metadata": {
    "collapsed": true
   },
   "outputs": [],
   "source": [
    "def trainandtest_split(data,train_per):\n",
    "    shuffle=data.sample(frac=1).reset_index(drop=1)\n",
    "    i=int(train_per*len(data)/100)\n",
    "    return [shuffle[:i],shuffle[i:]]\n",
    "\n",
    "def k_fold(data,k):\n",
    "    shuffle=data.sample(frac=1).reset_index(drop=1)\n",
    "    i=int(len(shuffle)/k)\n",
    "    cvs=np.array([None]*k)\n",
    "    for j in range(k):\n",
    "        cvs[j]=shuffle[i*j:i*(j+1)]\n",
    "    return cvs\n",
    "\n",
    "#Classification---------------------------------------------------\n",
    "def no_of_class(data):\n",
    "    return np.sort(pd.unique(data[data.columns[-1]]))\n",
    "    \n",
    "def cls_data(data,noc):\n",
    "    c=noc\n",
    "    cls=np.array([0]*3)\n",
    "    for i in range(len(c)):\n",
    "        cls[i]=len(data[data[data.columns[-1]]==c[i]])\n",
    "    return cls\n",
    "\n",
    "def entropy(cls_data):\n",
    "    \"\"\"Calculates entropy for given class data\"\"\"\n",
    "    cls_data=np.array(cls_data)\n",
    "    cls_data=cls_data/sum(cls_data)\n",
    "    s=-sum(np.nan_to_num(np.multiply(cls_data,np.log2(cls_data))))\n",
    "    return s\n",
    "\n",
    "def inf_gain(S,sln,srn):\n",
    "    \"\"\"Calculates information gain for binary split\"\"\"\n",
    "    S,sln,srn=np.array(S),np.array(sln),np.array(srn)\n",
    "    n,l,r=sum(S),sum(sln),sum(srn)\n",
    "    g=entropy(S)-(l*entropy(sln)/n)-((r*entropy(srn)/n))\n",
    "    return g\n",
    "\n",
    "def best_split_classifier(node_data,noc):\n",
    "    A=''\n",
    "    split=0\n",
    "    ent=-math.inf\n",
    "#     f_info=dict()\n",
    "    for f in node_data.columns[:-1]:\n",
    "        v=np.sort(pd.unique(node_data[f]))\n",
    "        if len(v)==1:\n",
    "            continue\n",
    "        spl=(v[1:]+v[:-1])/2\n",
    "        S=cls_data(node_data,noc)\n",
    "        spl_info=dict()\n",
    "        for s in spl:\n",
    "            l=node_data[node_data[f]<s]\n",
    "            r=node_data[node_data[f]>=s]\n",
    "            sln=cls_data(l,noc)\n",
    "            srn=cls_data(r,noc)\n",
    "            if inf_gain(S,sln,srn)>ent:\n",
    "                [A,split]=[f,s]\n",
    "                ent=inf_gain(S,sln,srn)\n",
    "#         f_info[f]=spl_info\n",
    "    return [A,split]\n",
    "\n",
    "def decision_tree_classifier_learn(data,d,noc):\n",
    "    t=dict()\n",
    "    cls=cls_data(data,noc)\n",
    "    if (d and np.shape(data)[0]>4 and cls[cls>0].size>1):\n",
    "        d=d-1\n",
    "        [A,s]=best_split_classifier(data,noc)\n",
    "        #print([A,s])\n",
    "        if(A==''):\n",
    "            return ['no_split',None,cls,{}]\n",
    "        [ln,rn]=[data[data[A]<s],data[data[A]>=s]]\n",
    "        t['l']=decision_tree_classifier_learn(ln,d,noc)\n",
    "        t['r']=decision_tree_classifier_learn(rn,d,noc)\n",
    "        return [A,s,cls,t]\n",
    "    else:\n",
    "        return ['no_split',None,cls,{}]\n",
    "\n",
    "def decision_tree_classifier_test(data,p):\n",
    "    A=p[0]\n",
    "    s=p[1]\n",
    "    cls=p[2]\n",
    "    if A=='no_split':\n",
    "        return int(np.argmax(cls))\n",
    "    else:\n",
    "        path=''\n",
    "        if float(data[A])<s:\n",
    "            path='l'\n",
    "        else:\n",
    "            path='r'\n",
    "        return decision_tree_classifier_test(data,p[3][path])\n",
    "\n",
    "def pred_classifier(test,p):\n",
    "    pred=np.array([0]*len(test))\n",
    "    for i in range(len(test)):\n",
    "        pred[i]=int(decision_tree_classifier_test(test.iloc[i],p))\n",
    "\n",
    "    count=0\n",
    "    for i in range(len(pred)):\n",
    "        if pred[i]==test[test.columns[-1]].iloc[i]:\n",
    "            count=count+1\n",
    "    acc=count*100/len(pred)\n",
    "    return [pred,acc]\n",
    "\n",
    "\n",
    "#Regression---------------------------------------------------\n",
    "\n",
    "def mse(data):\n",
    "    d=np.array(data[data.columns[-1]])\n",
    "    m=sum(np.square(d-np.mean(d)))/len(d)\n",
    "    return m\n",
    "\n",
    "def best_split_regressor(node_data):\n",
    "    A=''\n",
    "    split=0\n",
    "    ent=math.inf\n",
    "#     f_info=dict()\n",
    "    for f in node_data.columns[:-1]:\n",
    "        v=np.sort(pd.unique(node_data[f]))\n",
    "        spl=(v[1:]+v[:-1])/2\n",
    "        spl_info=dict()\n",
    "        for s in spl:\n",
    "            l=node_data[node_data[f]<s]\n",
    "            r=node_data[node_data[f]>=s]\n",
    "            if mse(l)+mse(r)<ent:\n",
    "                [A,split]=[f,s]\n",
    "                ent=mse(l)+mse(r)\n",
    "#         f_info[f]=spl_info\n",
    "    return [A,split]\n",
    "    \n",
    "def decision_tree_regressor_learn(data,d):\n",
    "    t=dict()\n",
    "    mu=np.mean(data[data.columns[-1]])\n",
    "    if (d and np.shape(data)[0]>1):\n",
    "        d=d-1\n",
    "        [A,s]=best_split_regressor(data)\n",
    "        print([A,s])\n",
    "        [ln,rn]=[data[data[A]<s],data[data[A]>=s]]\n",
    "        t['l']=decision_tree_regressor_learn(ln,d)\n",
    "        t['r']=decision_tree_regressor_learn(rn,d)\n",
    "        return [A,s,mu,t]\n",
    "    else:\n",
    "        return ['no_split',None,mu,{}]\n",
    "    \n",
    "def decision_tree_regressor_test(data,p):\n",
    "    A=p[0]\n",
    "    s=p[1]\n",
    "    mu=p[2]\n",
    "    if A=='no_split':\n",
    "        return p[2]\n",
    "    else:\n",
    "        path=''\n",
    "        if float(data[A])<s:\n",
    "            path='l'\n",
    "        else:\n",
    "            path='r'\n",
    "        return decision_tree_regressor_test(data,p[3][path])\n",
    "\n",
    "def pred_regressor(data,p):\n",
    "    pred=np.array([0.0]*len(test))\n",
    "    for i in range(len(test)):\n",
    "        pred[i]=decision_tree_regressor_test(test.iloc[i],param)\n",
    "    \n",
    "    diff=pred-np.array(test[test.columns[-1]])\n",
    "    err=np.sqrt(sum(np.square(diff))/len(diff))\n",
    "    return [pred,err]"
   ]
  },
  {
   "cell_type": "markdown",
   "metadata": {},
   "source": [
    "# Q1(a)"
   ]
  },
  {
   "cell_type": "code",
   "execution_count": 27,
   "metadata": {
    "collapsed": true
   },
   "outputs": [],
   "source": [
    "def random_forest_classifier_train(data,d,noc,e):\n",
    "    samp=np.shape(data)[0]\n",
    "    n_f=len(data.columns[:-1])\n",
    "    para=np.array([None]*e)\n",
    "    for i in range(e):\n",
    "        b_data=data.iloc[random.choices(range(samp),k=samp)]\n",
    "        new_data=b_data[random.sample(list(data.columns[:-1]),int(np.sqrt(n_f)))+list([data.columns[-1]])]\n",
    "        para[i]=decision_tree_classifier_learn(new_data,d,noc)\n",
    "    return para\n",
    "\n",
    "def random_forest_classifier_test(data,rf):\n",
    "    e=len(rf)\n",
    "    row=len(data)\n",
    "    tot_pred=np.zeros((row,e)).astype(int)\n",
    "    for i in range(e):\n",
    "        [tot_pred[:,i],err]=pred_classifier(data,rf[i])\n",
    "    return tot_pred\n",
    "\n",
    "def random_forest_acc(data,rf):\n",
    "    tot_pred=random_forest_classifier_test(data,rf)\n",
    "\n",
    "    ran_pred=np.array([None]*len(tot_pred))\n",
    "    for i in range(len(tot_pred)):\n",
    "        ran_pred[i]=np.argmax(np.bincount(tot_pred[i,:].astype(int)))\n",
    "    count=0\n",
    "    for i in range(len(ran_pred)):\n",
    "        if ran_pred[i]==data[data.columns[-1]].iloc[i]:\n",
    "            count=count+1\n",
    "    acc=count*100/len(ran_pred)\n",
    "    return acc"
   ]
  },
  {
   "cell_type": "markdown",
   "metadata": {},
   "source": [
    "# Q1(b)"
   ]
  },
  {
   "cell_type": "code",
   "execution_count": 26,
   "metadata": {
    "collapsed": true
   },
   "outputs": [],
   "source": [
    "def bag_and_learn(data,n_f,d,noc,samp,output):\n",
    "    b_data=data.iloc[random.choices(range(samp),k=samp)]\n",
    "    new_data=b_data[random.sample(list(data.columns[:-1]),int(np.sqrt(n_f)))+list([data.columns[-1]])]\n",
    "    output.put(decision_tree_classifier_learn(new_data,d,noc))\n",
    "    \n",
    "    \n",
    "def random_forest_classifier_train_prl(data,d,noc,e):\n",
    "    samp=np.shape(data)[0]\n",
    "    n_f=len(data.columns[:-1])\n",
    "    output=mp.Queue()\n",
    "    para=np.array([None]*e)\n",
    "    \n",
    "    processes=[mp.Process(target=bag_and_learn, args=(data,n_f,d,noc,samp,output)) for x in range(e)]\n",
    "    \n",
    "    for p in processes:\n",
    "        p.start()\n",
    "    for p in processes:\n",
    "        p.join()\n",
    "    \n",
    "    return [output.get() for p in processes] "
   ]
  },
  {
   "cell_type": "markdown",
   "metadata": {},
   "source": [
    "# Q1(c)"
   ]
  },
  {
   "cell_type": "code",
   "execution_count": 28,
   "metadata": {},
   "outputs": [
    {
     "name": "stderr",
     "output_type": "stream",
     "text": [
      "/Users/girish/anaconda3/lib/python3.6/site-packages/ipykernel_launcher.py:29: RuntimeWarning: divide by zero encountered in log2\n",
      "/Users/girish/anaconda3/lib/python3.6/site-packages/ipykernel_launcher.py:29: RuntimeWarning: invalid value encountered in multiply\n"
     ]
    },
    {
     "name": "stdout",
     "output_type": "stream",
     "text": [
      "Runtime of Series Implementation (in seconds) =  10.274473905563354\n",
      "Runtime of Parallel Implementation (in seconds) =  5.368405818939209\n"
     ]
    }
   ],
   "source": [
    "from sklearn import datasets\n",
    "\n",
    "iris=datasets.load_iris()\n",
    "irispd=pd.DataFrame(np.c_[iris.data,iris.target],columns=iris.feature_names+['class'])\n",
    "\n",
    "[train,test]=trainandtest_split(irispd,70)\n",
    "noc=no_of_class(train)\n",
    "t_s=[0,0]\n",
    "t_p=[0,0]\n",
    "\n",
    "t_s[0]=time.time()\n",
    "rf=random_forest_classifier_train(train,4,noc,20)\n",
    "t_s[1]=time.time()\n",
    "\n",
    "t_p[0]=time.time()\n",
    "rf=random_forest_classifier_train_prl(train,4,noc,20)\n",
    "t_p[1]=time.time()\n",
    "\n",
    "print('Runtime of Series Implementation (in seconds) = ', t_s[1]-t_s[0])\n",
    "print('Runtime of Parallel Implementation (in seconds) = ', t_p[1]-t_p[0])"
   ]
  },
  {
   "cell_type": "code",
   "execution_count": 9,
   "metadata": {},
   "outputs": [
    {
     "data": {
      "text/plain": [
       "([1548596150.258396, 1548596170.601135],\n",
       " [1548596170.6011982, 1548596182.005308])"
      ]
     },
     "execution_count": 9,
     "metadata": {},
     "output_type": "execute_result"
    }
   ],
   "source": [
    "t_s,t_p"
   ]
  },
  {
   "cell_type": "markdown",
   "metadata": {},
   "source": [
    "# Q1(d)"
   ]
  },
  {
   "cell_type": "code",
   "execution_count": 29,
   "metadata": {},
   "outputs": [
    {
     "data": {
      "text/plain": [
       "91.11111111111111"
      ]
     },
     "execution_count": 29,
     "metadata": {},
     "output_type": "execute_result"
    }
   ],
   "source": [
    "from sklearn import datasets\n",
    "from IPython.display import clear_output\n",
    "\n",
    "iris=datasets.load_iris()\n",
    "irispd=pd.DataFrame(np.c_[iris.data,iris.target],columns=iris.feature_names+['class'])\n",
    "\n",
    "[train,test]=trainandtest_split(irispd,70)\n",
    "noc=no_of_class(train)\n",
    "# decision_tree_classifier_learn(train[random.sample(list(train.columns[:-1]),int(np.sqrt(4)))+[train.columns[-1]]],3,noc)\n",
    "rf=random_forest_classifier_train_prl(train,4,noc,20)\n",
    "\n",
    "clear_output(wait=True)\n",
    "random_forest_acc(test,rf)"
   ]
  },
  {
   "cell_type": "markdown",
   "metadata": {},
   "source": [
    "# Q1(e)"
   ]
  },
  {
   "cell_type": "code",
   "execution_count": 19,
   "metadata": {},
   "outputs": [
    {
     "name": "stdout",
     "output_type": "stream",
     "text": [
      "Optimal Estimator:  1\n",
      "Mean Accuracy:  97.33333333333334\n",
      "Estimator-Accuracy info {1: [2, 96.66666666666667], 2: [100, 100.0], 5: [1, 93.33333333333333], 10: [5, 100.0], 50: [100, 96.66666666666667]}\n"
     ]
    }
   ],
   "source": [
    "from sklearn import datasets\n",
    "from IPython.display import clear_output\n",
    "\n",
    "iris=datasets.load_iris()\n",
    "irispd=pd.DataFrame(np.c_[iris.data,iris.target],columns=iris.feature_names+['class'])\n",
    "\n",
    "cvs=k_fold(irispd,5)\n",
    "k=len(cvs)\n",
    "va={}\n",
    "x=np.array(range(k))\n",
    "estimators=[1, 2, 5, 10, 50, 100]\n",
    "for i in range(k):\n",
    "    [train,val,test]=[pd.DataFrame(np.concatenate(cvs[x[0:k-2]]),columns=irispd.columns).reset_index(drop=1),pd.DataFrame(cvs[x[k-2]]).reset_index(drop=1),pd.DataFrame(cvs[x[k-1]]).reset_index(drop=1)]\n",
    "    noc=no_of_class(irispd)\n",
    "    a_max=-math.inf\n",
    "    e_max=0\n",
    "    e_info={}\n",
    "    rf_max=None\n",
    "    for e in estimators:\n",
    "        rf=random_forest_classifier_train(train,4,noc,e)\n",
    "        acc=random_forest_acc(val,rf)\n",
    "        if acc>a_max:\n",
    "            a_max=acc\n",
    "            e_max=e\n",
    "            rf_max=rf\n",
    "        e_info[e]=acc\n",
    "    a=random_forest_acc(val,rf_max)\n",
    "    va[i+1]=[e_max,a]\n",
    "    x=np.roll(x,1)\n",
    "op_e=math.inf\n",
    "m_a=0\n",
    "for k in va.keys():\n",
    "    m_a=m_a+va[k][1]\n",
    "    if va[k][0]<op_e:\n",
    "        op_e=va[k][0]\n",
    "m_a=m_a/len(va)\n",
    "\n",
    "clear_output(wait=True)\n",
    "print('Optimal Estimator: ',op_e)\n",
    "print('Mean Accuracy: ',m_a)\n",
    "print('Estimator-Accuracy info', va)"
   ]
  },
  {
   "cell_type": "markdown",
   "metadata": {},
   "source": [
    "# Q2"
   ]
  },
  {
   "cell_type": "code",
   "execution_count": 33,
   "metadata": {
    "collapsed": true
   },
   "outputs": [],
   "source": [
    "data=pd.read_csv('TrainandValid.csv',parse_dates=['saledate'],low_memory=False)\n",
    "data.SalePrice=np.log(data.SalePrice)"
   ]
  },
  {
   "cell_type": "code",
   "execution_count": null,
   "metadata": {
    "collapsed": true
   },
   "outputs": [],
   "source": [
    "data.describe(include='all')"
   ]
  },
  {
   "cell_type": "code",
   "execution_count": 35,
   "metadata": {
    "collapsed": true
   },
   "outputs": [],
   "source": [
    "add_datepart(data,'saledate')\n",
    "train_cats(data)\n",
    "X,y,n=proc_df(data,'SalePrice')"
   ]
  },
  {
   "cell_type": "code",
   "execution_count": 56,
   "metadata": {
    "collapsed": true
   },
   "outputs": [],
   "source": [
    "sp=12000\n",
    "[X_train,X_valid]=[X[:sp],X[sp:]]\n",
    "[y_train,y_valid]=[y[:sp],y[sp:]]"
   ]
  },
  {
   "cell_type": "code",
   "execution_count": 64,
   "metadata": {},
   "outputs": [
    {
     "data": {
      "text/plain": [
       "0.3776840659800174"
      ]
     },
     "execution_count": 64,
     "metadata": {},
     "output_type": "execute_result"
    }
   ],
   "source": [
    "r=RandomForestRegressor(n_estimators=200,min_samples_leaf=3,n_jobs=-1,max_features=0.5)\n",
    "r.fit(X_train,y_train)\n",
    "y_pred=r.predict(X_valid)\n",
    "rmse=math.sqrt(((y_pred-y_valid)**2).mean())\n",
    "rmse"
   ]
  },
  {
   "cell_type": "code",
   "execution_count": 115,
   "metadata": {},
   "outputs": [
    {
     "data": {
      "text/plain": [
       "0.5444212833984756"
      ]
     },
     "execution_count": 115,
     "metadata": {},
     "output_type": "execute_result"
    }
   ],
   "source": [
    "t=DecisionTreeRegressor()\n",
    "t.fit(X_train,y_train)\n",
    "y_pred=t.predict(X_valid)\n",
    "rmse=math.sqrt(((y_pred-y_valid)**2).mean())\n",
    "rmse"
   ]
  },
  {
   "cell_type": "code",
   "execution_count": 103,
   "metadata": {
    "collapsed": true
   },
   "outputs": [],
   "source": [
    "test_data=pd.read_csv('Test.csv',parse_dates=['saledate'],low_memory=False)"
   ]
  },
  {
   "cell_type": "code",
   "execution_count": 104,
   "metadata": {
    "collapsed": true
   },
   "outputs": [],
   "source": [
    "add_datepart(test_data,'saledate')\n",
    "train_cats(test_data)\n",
    "X_test,y_t,n=proc_df(test_data)\n",
    "X_test['auctioneerID_na']=False"
   ]
  },
  {
   "cell_type": "code",
   "execution_count": 105,
   "metadata": {
    "collapsed": true
   },
   "outputs": [],
   "source": [
    "y_test=r.predict(X_test)"
   ]
  },
  {
   "cell_type": "code",
   "execution_count": 106,
   "metadata": {
    "collapsed": true
   },
   "outputs": [],
   "source": [
    "res=pd.DataFrame({'SalesID':X_test.SalesID,'SalePrice':pd.Series(y_test)})\n",
    "res.to_csv('Result.csv',index=False)"
   ]
  },
  {
   "cell_type": "code",
   "execution_count": 116,
   "metadata": {
    "collapsed": true
   },
   "outputs": [],
   "source": [
    "y_test=t.predict(X_test)"
   ]
  },
  {
   "cell_type": "code",
   "execution_count": 117,
   "metadata": {
    "collapsed": true
   },
   "outputs": [],
   "source": [
    "res=pd.DataFrame({'SalesID':X_test.SalesID,'SalePrice':pd.Series(y_test)})\n",
    "res.to_csv('Result2.csv',index=False)"
   ]
  },
  {
   "cell_type": "markdown",
   "metadata": {},
   "source": [
    "# Q3(a)"
   ]
  },
  {
   "cell_type": "code",
   "execution_count": 4,
   "metadata": {
    "collapsed": true
   },
   "outputs": [],
   "source": [
    "from sklearn import datasets\n",
    "\n",
    "iris=datasets.load_iris()\n",
    "iris.target_names=iris.target_names.astype('<U20')\n",
    "iris.target[iris.target==0]=-1\n",
    "iris.target[iris.target==1]=-1\n",
    "iris.target[iris.target==2]=1\n",
    "iris.target_names=np.array(['not-virginica','virginica'])\n",
    "\n",
    "irispd=pd.DataFrame(np.c_[iris.data,iris.target],columns=iris.feature_names+['class'])\n",
    "irispd=irispd.drop(['sepal width (cm)','petal length (cm)'],axis=1)\n"
   ]
  },
  {
   "cell_type": "code",
   "execution_count": 5,
   "metadata": {
    "collapsed": true
   },
   "outputs": [],
   "source": [
    "n_iter=4\n",
    "n_r=len(irispd)\n",
    "w=np.zeros((n_r,n_iter))\n",
    "al=np.array([0.0]*n_iter)\n",
    "X=np.array(irispd.drop('class',axis=1))\n",
    "y=np.array(irispd['class'])\n",
    "t=DecisionTreeClassifier(max_depth=1)\n",
    "for i in range(n_iter):\n",
    "    if i==0:\n",
    "        w[:,i]=1/n_r\n",
    "    t.fit(X,y,sample_weight=w[:,i])\n",
    "    y_p=t.predict(X)\n",
    "    err=sum(w[y_p!=y,i])\n",
    "    al[i]=0.5*math.log((1-err)/err)\n",
    "    #print(err)\n",
    "    if i<(n_iter-1):\n",
    "        w[y_p!=y,i+1]=math.exp(al[i])*w[y_p!=y,i]\n",
    "        w[y_p==y,i+1]=math.exp(-al[i])*w[y_p==y,i]\n",
    "        w[:,i+1]=w[:,i+1]/sum(w[:,i+1])"
   ]
  },
  {
   "cell_type": "code",
   "execution_count": 8,
   "metadata": {},
   "outputs": [
    {
     "name": "stdout",
     "output_type": "stream",
     "text": [
      "Accuracy =  96.0\n"
     ]
    }
   ],
   "source": [
    "final_pred=np.array([0]*n_r)\n",
    "l={1:'red',-1:'blue'}\n",
    "lab=np.array([None]*n_r)\n",
    "for i in range(n_iter):\n",
    "    t.fit(X,y,sample_weight=w[:,i])\n",
    "    y_p=t.predict(X)\n",
    "    final_pred=final_pred+al[i]*y_p\n",
    "    for j in range(len(y_p)):\n",
    "        lab[j]=l[y_p[j]]\n",
    "    plt.scatter(X[:,0],X[:,1],s=500*w[:,i],c=lab)\n",
    "    plt.legend()\n",
    "    plt.title('Iteration '+str(i+1)+' Accuracy: '+str(100*sum(y_p==y)/n_r)+'%')\n",
    "    plt.xlabel(irispd.columns[0])\n",
    "    plt.ylabel(irispd.columns[1])\n",
    "    #plt.show()\n",
    "    filename='Iteration'+str(i+1)+'.png'\n",
    "    plt.savefig(filename, dpi=96)\n",
    "    plt.gca()\n",
    "! convert -delay 30 *.png Q3a.gif\n",
    "final_pred[final_pred<0]=-1\n",
    "final_pred[final_pred>0]=1\n",
    "print('Accuracy = ',100*sum(final_pred==y)/n_r)"
   ]
  },
  {
   "cell_type": "code",
   "execution_count": 9,
   "metadata": {},
   "outputs": [
    {
     "data": {
      "text/html": [
       "<img src=\"Q3a.gif\"/>"
      ],
      "text/plain": [
       "<IPython.core.display.Image object>"
      ]
     },
     "execution_count": 9,
     "metadata": {},
     "output_type": "execute_result"
    }
   ],
   "source": [
    "from IPython.display import Image\n",
    "Image(url='Q3a.gif')  "
   ]
  },
  {
   "cell_type": "markdown",
   "metadata": {},
   "source": [
    "# Q3(b)"
   ]
  },
  {
   "cell_type": "code",
   "execution_count": 10,
   "metadata": {
    "collapsed": true
   },
   "outputs": [],
   "source": [
    "outliers=pd.DataFrame([[6.5,1.9,-1],[6,1.1,1],[7.3,1.9,-1],[5,0.5,1],[4.5,0.2,1]],columns=irispd.columns)"
   ]
  },
  {
   "cell_type": "code",
   "execution_count": 11,
   "metadata": {
    "collapsed": true
   },
   "outputs": [],
   "source": [
    "data_wn=pd.concat([irispd,outliers])\n",
    "\n",
    "n_iter=8\n",
    "n_r=len(data_wn)\n",
    "w=np.zeros((n_r,n_iter))\n",
    "al=np.array([0.0]*n_iter)\n",
    "X=np.array(data_wn.drop('class',axis=1))\n",
    "y=np.array(data_wn['class'])\n",
    "t=DecisionTreeClassifier(max_depth=1)\n",
    "for i in range(n_iter):\n",
    "    if i==0:\n",
    "        w[:,i]=1/n_r\n",
    "    t.fit(X,y,sample_weight=w[:,i])\n",
    "    y_p=t.predict(X)\n",
    "    err=sum(w[y_p!=y,i])\n",
    "    al[i]=0.5*math.log((1-err)/err)\n",
    "    #print(err)\n",
    "    if i<(n_iter-1):\n",
    "        w[y_p!=y,i+1]=math.exp(al[i])*w[y_p!=y,i]\n",
    "        w[y_p==y,i+1]=math.exp(-al[i])*w[y_p==y,i]\n",
    "        w[:,i+1]=w[:,i+1]/sum(w[:,i+1])"
   ]
  },
  {
   "cell_type": "code",
   "execution_count": 14,
   "metadata": {},
   "outputs": [
    {
     "name": "stdout",
     "output_type": "stream",
     "text": [
      "Accuracy =  92.90322580645162\n"
     ]
    }
   ],
   "source": [
    "final_pred=np.array([0]*n_r)\n",
    "l={1:'red',-1:'blue'}\n",
    "lab=np.array([None]*n_r)\n",
    "for i in range(n_iter):\n",
    "    t.fit(X,y,sample_weight=w[:,i])\n",
    "    y_p=t.predict(X)\n",
    "    final_pred=final_pred+al[i]*y_p\n",
    "    for j in range(len(y_p)):\n",
    "        lab[j]=l[y_p[j]]\n",
    "    plt.scatter(X[:,0],X[:,1],s=200*w[:,i],c=lab)\n",
    "    plt.legend()\n",
    "    plt.title('Iteration '+str(i+1)+' Accuracy: '+str(100*sum(y_p==y)/n_r)+'%')\n",
    "    plt.xlabel(irispd.columns[0])\n",
    "    plt.ylabel(irispd.columns[1])\n",
    "    filename='Iterationb'+str(i+1)+'.jpg'\n",
    "    plt.savefig(filename, dpi=96)\n",
    "    plt.gca()\n",
    "! convert -delay 50 *.jpg Q3b.gif\n",
    "final_pred[final_pred<0]=-1\n",
    "final_pred[final_pred>0]=1\n",
    "print('Accuracy = ',100*sum(final_pred==y)/n_r)"
   ]
  },
  {
   "cell_type": "code",
   "execution_count": 15,
   "metadata": {},
   "outputs": [
    {
     "data": {
      "text/html": [
       "<img src=\"Q3b.gif\"/>"
      ],
      "text/plain": [
       "<IPython.core.display.Image object>"
      ]
     },
     "execution_count": 15,
     "metadata": {},
     "output_type": "execute_result"
    }
   ],
   "source": [
    "from IPython.display import Image\n",
    "Image(url='Q3b.gif') "
   ]
  },
  {
   "cell_type": "markdown",
   "metadata": {},
   "source": [
    "Due to the outliers the accuracy has dropped from 96% to 92.9% for just 5 outliers"
   ]
  },
  {
   "cell_type": "markdown",
   "metadata": {},
   "source": [
    "# Q4"
   ]
  },
  {
   "cell_type": "code",
   "execution_count": 22,
   "metadata": {},
   "outputs": [
    {
     "data": {
      "image/png": "[encoded data removed]",
      "text/plain": [
       "<matplotlib.figure.Figure at 0x1c2851e860>"
      ]
     },
     "metadata": {},
     "output_type": "display_data"
    },
    {
     "data": {
      "image/png": "[encoded data removed]",
      "text/plain": [
       "<matplotlib.figure.Figure at 0x1c28441128>"
      ]
     },
     "metadata": {},
     "output_type": "display_data"
    },
    {
     "data": {
      "image/png": "[encoded data removed]",
      "text/plain": [
       "<matplotlib.figure.Figure at 0x1c2854fe10>"
      ]
     },
     "metadata": {},
     "output_type": "display_data"
    }
   ],
   "source": [
    "#Q4(a)\n",
    "m=5\n",
    "c=5\n",
    "rn=10*np.random.uniform(-5,5,(50,))\n",
    "x=np.linspace(0,10,50)\n",
    "y=m*x+c+rn\n",
    "plt.plot(x,y,'o')\n",
    "plt.show()\n",
    "\n",
    "#Q4(b)\n",
    "p = np.poly1d(np.polyfit(x, y, 5))\n",
    "t=np.linspace(0,10,100)\n",
    "plt.plot(x,y,'o',t,p(t),'r')\n",
    "plt.title('Before Bagging')\n",
    "plt.show()\n",
    "\n",
    "#Q4(c)\n",
    "t=np.linspace(0,10,100)\n",
    "n=100\n",
    "s=np.array([0]*n)\n",
    "for i in range(n):\n",
    "    b=np.array(random.choices(x,k=50))\n",
    "    y_b=m*b+c+rn\n",
    "    p = np.poly1d(np.polyfit(b, y_b, 5))\n",
    "    #plt.plot(t,p(t),'g')\n",
    "    s=s+p(t)\n",
    "s=s/n\n",
    "plt.plot(x,y,'o',t,s)\n",
    "plt.plot(x,m*x+c,'*')\n",
    "plt.title('After Bagging')\n",
    "plt.show()"
   ]
  },
  {
   "cell_type": "markdown",
   "metadata": {},
   "source": [
    "# Q5"
   ]
  },
  {
   "cell_type": "code",
   "execution_count": 24,
   "metadata": {},
   "outputs": [
    {
     "name": "stderr",
     "output_type": "stream",
     "text": [
      "/Users/girish/anaconda3/lib/python3.6/site-packages/scipy/stats/stats.py:1633: FutureWarning: Using a non-tuple sequence for multidimensional indexing is deprecated; use `arr[tuple(seq)]` instead of `arr[seq]`. In the future this will be interpreted as an array index, `arr[np.array(seq)]`, which will result either in an error or a different result.\n",
      "  return np.add.reduce(sorted[indexer] * weights, axis=axis) / sumval\n"
     ]
    },
    {
     "data": {
      "image/png": "[encoded data removed]",
      "text/plain": [
       "<matplotlib.figure.Figure at 0x1c22af8198>"
      ]
     },
     "metadata": {},
     "output_type": "display_data"
    },
    {
     "data": {
      "image/png": "[encoded data removed]",
      "text/plain": [
       "<matplotlib.figure.Figure at 0x1c22aaabe0>"
      ]
     },
     "metadata": {},
     "output_type": "display_data"
    }
   ],
   "source": [
    "#Q5(a)\n",
    "def random_me(l,n):\n",
    "    #t=math.sin((time.time()-time.clock())*10)*10000000\n",
    "    t=math.sin(time.time())*1000000\n",
    "    return l[int(t%n)]\n",
    "\n",
    "#Q5(b)\n",
    "n=100\n",
    "r=list(range(1,n+1))\n",
    "out=np.array([0]*100)\n",
    "ran=np.array([0]*1000)\n",
    "for i in range(1000):\n",
    "    ran[i]=random_me(r,n)\n",
    "for v in ran:\n",
    "    out[v-1]+=1\n",
    "sns.set(color_codes=True)\n",
    "sns.distplot(list(ran))\n",
    "plt.show()\n",
    "plt.plot(r,out)\n",
    "plt.show()"
   ]
  },
  {
   "cell_type": "code",
   "execution_count": null,
   "metadata": {
    "collapsed": true
   },
   "outputs": [],
   "source": []
  }
 ],
 "metadata": {
  "kernelspec": {
   "display_name": "Python 3",
   "language": "python",
   "name": "python3"
  },
  "language_info": {
   "codemirror_mode": {
    "name": "ipython",
    "version": 3
   },
   "file_extension": ".py",
   "mimetype": "text/x-python",
   "name": "python",
   "nbconvert_exporter": "python",
   "pygments_lexer": "ipython3",
   "version": "3.6.3"
  }
 },
 "nbformat": 4,
 "nbformat_minor": 2
}
